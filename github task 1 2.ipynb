{
 "cells": [
  {
   "cell_type": "code",
   "execution_count": 1,
   "id": "f1308911",
   "metadata": {},
   "outputs": [],
   "source": [
    "# Task 2\n",
    "# slice 'apple' from the give variable\n",
    "B='i need an apple'\n"
   ]
  },
  {
   "cell_type": "code",
   "execution_count": 3,
   "id": "0cf022b2",
   "metadata": {},
   "outputs": [
    {
     "data": {
      "text/plain": [
       "'apple'"
      ]
     },
     "execution_count": 3,
     "metadata": {},
     "output_type": "execute_result"
    }
   ],
   "source": [
    "B[10:15]"
   ]
  },
  {
   "cell_type": "code",
   "execution_count": 26,
   "id": "b4b6628a",
   "metadata": {},
   "outputs": [
    {
     "name": "stdout",
     "output_type": "stream",
     "text": [
      "original list is: [2, 3, 4, 2, 3, 4, 8, 9, 12, 'apple', 'Apple']\n",
      "after removing duplicates: [2, 3, 4, 8, 9, 12, 'Apple', 'apple']\n"
     ]
    }
   ],
   "source": [
    "# Task 1\n",
    "#Remove duplicates \n",
    "a=[2,3,4,2,3,4,8,9,12,\"apple\",'Apple']\n",
    "print(\"original list is:\",a)\n",
    "print(\"after removing duplicates:\",list(set(a)))\n",
    "\n",
    "\n",
    "    \n",
    "    \n",
    "\n"
   ]
  },
  {
   "cell_type": "markdown",
   "id": "b9b2f9ee",
   "metadata": {},
   "source": [
    "Task-3\n",
    "\n",
    "create a function for\n",
    "\n",
    "add both number when both number are even,\n",
    "multiple when both number are not a even number\n"
   ]
  },
  {
   "cell_type": "code",
   "execution_count": 11,
   "id": "cbfd2683",
   "metadata": {},
   "outputs": [],
   "source": [
    "def add(a,b):\n",
    "    if((a%2==0) and (b%2==0)):\n",
    "        print(\"these are even numbers\")\n",
    "        c=a+b\n",
    "        print(\"The value is \",c)\n",
    "    else:\n",
    "        print('The value given are odd number')\n",
    "        c=a*b\n",
    "        print(\"The multiplication of two numbers:\",c)"
   ]
  },
  {
   "cell_type": "code",
   "execution_count": 12,
   "id": "65302555",
   "metadata": {},
   "outputs": [
    {
     "name": "stdout",
     "output_type": "stream",
     "text": [
      "these are even numbers\n",
      "The value is  8\n"
     ]
    }
   ],
   "source": [
    "add(4,4)"
   ]
  },
  {
   "cell_type": "code",
   "execution_count": 13,
   "id": "ba244d60",
   "metadata": {},
   "outputs": [
    {
     "name": "stdout",
     "output_type": "stream",
     "text": [
      "The value given are odd number\n",
      "The multiplication of two numbers: 49\n"
     ]
    }
   ],
   "source": [
    "add(7,7)"
   ]
  },
  {
   "cell_type": "code",
   "execution_count": 1,
   "id": "76d252c1",
   "metadata": {},
   "outputs": [],
   "source": [
    "import jothy"
   ]
  },
  {
   "cell_type": "code",
   "execution_count": 2,
   "id": "0e02dd87",
   "metadata": {},
   "outputs": [
    {
     "name": "stdout",
     "output_type": "stream",
     "text": [
      "these are even numbers\n",
      "The value is  12\n"
     ]
    }
   ],
   "source": [
    "jothy.add(6,6)"
   ]
  },
  {
   "cell_type": "code",
   "execution_count": 3,
   "id": "be50f919",
   "metadata": {},
   "outputs": [
    {
     "name": "stdout",
     "output_type": "stream",
     "text": [
      "The value given are odd number\n",
      "The multiplication of two numbers: 221\n"
     ]
    }
   ],
   "source": [
    "jothy.add(13,17)"
   ]
  },
  {
   "cell_type": "code",
   "execution_count": 5,
   "id": "50d03352",
   "metadata": {},
   "outputs": [
    {
     "name": "stdout",
     "output_type": "stream",
     "text": [
      "Enter the number:8\n",
      "8 * 1 = 8\n",
      "8 * 2 = 16\n",
      "8 * 3 = 24\n",
      "8 * 4 = 32\n",
      "8 * 5 = 40\n",
      "8 * 6 = 48\n",
      "8 * 7 = 56\n",
      "8 * 8 = 64\n",
      "8 * 9 = 72\n",
      "8 * 10 = 80\n"
     ]
    }
   ],
   "source": [
    "n=int(input(\"Enter the number:\"))\n",
    "for i in range(1,11):\n",
    "    print(n,\"*\",i,\"=\",n*i)"
   ]
  },
  {
   "cell_type": "code",
   "execution_count": null,
   "id": "0c28f4b6",
   "metadata": {},
   "outputs": [],
   "source": []
  }
 ],
 "metadata": {
  "kernelspec": {
   "display_name": "Python 3 (ipykernel)",
   "language": "python",
   "name": "python3"
  },
  "language_info": {
   "codemirror_mode": {
    "name": "ipython",
    "version": 3
   },
   "file_extension": ".py",
   "mimetype": "text/x-python",
   "name": "python",
   "nbconvert_exporter": "python",
   "pygments_lexer": "ipython3",
   "version": "3.9.13"
  }
 },
 "nbformat": 4,
 "nbformat_minor": 5
}
